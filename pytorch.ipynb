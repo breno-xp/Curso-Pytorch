{
  "nbformat": 4,
  "nbformat_minor": 0,
  "metadata": {
    "colab": {
      "provenance": [],
      "gpuType": "T4",
      "collapsed_sections": [
        "kf3x8g1-BeRy"
      ],
      "authorship_tag": "ABX9TyP7dIM8mNOMvlA1pfXqoA/R",
      "include_colab_link": true
    },
    "kernelspec": {
      "name": "python3",
      "display_name": "Python 3"
    },
    "language_info": {
      "name": "python"
    },
    "accelerator": "GPU"
  },
  "cells": [
    {
      "cell_type": "markdown",
      "metadata": {
        "id": "view-in-github",
        "colab_type": "text"
      },
      "source": [
        "<a href=\"https://colab.research.google.com/github/breno-xp/Curso-Pytorch/blob/main/pytorch.ipynb\" target=\"_parent\"><img src=\"https://colab.research.google.com/assets/colab-badge.svg\" alt=\"Open In Colab\"/></a>"
      ]
    },
    {
      "cell_type": "code",
      "source": [
        "import torch\n",
        "import pandas\n",
        "import numpy as np\n",
        "import matplotlib.pyplot as plt"
      ],
      "metadata": {
        "id": "I4ho0LG2EGYh"
      },
      "execution_count": null,
      "outputs": []
    },
    {
      "cell_type": "markdown",
      "source": [
        "# Chapter 0 - Fundamentals"
      ],
      "metadata": {
        "id": "kf3x8g1-BeRy"
      }
    },
    {
      "cell_type": "markdown",
      "source": [
        "## Introduction"
      ],
      "metadata": {
        "id": "QsI0P0ciHO_K"
      }
    },
    {
      "cell_type": "code",
      "source": [
        "test_essentialS = torch.tensor([1, 2, 3], [])\n",
        "# The firt array is the matrix, there should be only 1"
      ],
      "metadata": {
        "colab": {
          "base_uri": "https://localhost:8080/",
          "height": 141
        },
        "id": "g3EUa_81XLoh",
        "outputId": "deb4f223-6d9d-45a2-f6aa-77ffa36ced40"
      },
      "execution_count": null,
      "outputs": [
        {
          "output_type": "error",
          "ename": "TypeError",
          "evalue": "tensor() takes 1 positional argument but 2 were given",
          "traceback": [
            "\u001b[0;31m---------------------------------------------------------------------------\u001b[0m",
            "\u001b[0;31mTypeError\u001b[0m                                 Traceback (most recent call last)",
            "\u001b[0;32m<ipython-input-45-0ee7bb3135cc>\u001b[0m in \u001b[0;36m<cell line: 0>\u001b[0;34m()\u001b[0m\n\u001b[0;32m----> 1\u001b[0;31m \u001b[0mtest_1\u001b[0m \u001b[0;34m=\u001b[0m \u001b[0mtorch\u001b[0m\u001b[0;34m.\u001b[0m\u001b[0mtensor\u001b[0m\u001b[0;34m(\u001b[0m\u001b[0;34m[\u001b[0m\u001b[0;36m1\u001b[0m\u001b[0;34m,\u001b[0m \u001b[0;36m2\u001b[0m\u001b[0;34m,\u001b[0m \u001b[0;36m3\u001b[0m\u001b[0;34m]\u001b[0m\u001b[0;34m,\u001b[0m \u001b[0;34m[\u001b[0m\u001b[0;34m]\u001b[0m\u001b[0;34m)\u001b[0m\u001b[0;34m\u001b[0m\u001b[0;34m\u001b[0m\u001b[0m\n\u001b[0m",
            "\u001b[0;31mTypeError\u001b[0m: tensor() takes 1 positional argument but 2 were given"
          ]
        }
      ]
    },
    {
      "cell_type": "code",
      "source": [
        "matrix_err = torch.tensor([[[1, 2, 3],\n",
        "                          [4, 5]]])\n",
        "# The arrays must have the same number os elements"
      ],
      "metadata": {
        "colab": {
          "base_uri": "https://localhost:8080/",
          "height": 176
        },
        "id": "HUAe3PNnVpbs",
        "outputId": "6f67c52e-1206-4ff1-bf75-4332f17f3e1d"
      },
      "execution_count": null,
      "outputs": [
        {
          "output_type": "error",
          "ename": "ValueError",
          "evalue": "expected sequence of length 3 at dim 2 (got 2)",
          "traceback": [
            "\u001b[0;31m---------------------------------------------------------------------------\u001b[0m",
            "\u001b[0;31mValueError\u001b[0m                                Traceback (most recent call last)",
            "\u001b[0;32m<ipython-input-85-c700e9c5fc0c>\u001b[0m in \u001b[0;36m<cell line: 0>\u001b[0;34m()\u001b[0m\n\u001b[0;32m----> 1\u001b[0;31m matrix_err = torch.tensor([[[1, 2, 3],\n\u001b[0m\u001b[1;32m      2\u001b[0m                           [4, 5]]])\n\u001b[1;32m      3\u001b[0m \u001b[0;31m# The matrix must be quadraticS\u001b[0m\u001b[0;34m\u001b[0m\u001b[0;34m\u001b[0m\u001b[0m\n",
            "\u001b[0;31mValueError\u001b[0m: expected sequence of length 3 at dim 2 (got 2)"
          ]
        }
      ]
    },
    {
      "cell_type": "code",
      "source": [
        "test_1 = torch.tensor([1, 2, 3])\n",
        "\n",
        "test_1.shape\n",
        "# Inside the matrix (dim = 0) there is 3 items"
      ],
      "metadata": {
        "colab": {
          "base_uri": "https://localhost:8080/"
        },
        "id": "O372dHJ_fe2d",
        "outputId": "44da9af4-cdcd-461b-ebe5-969ef43f4a7a"
      },
      "execution_count": null,
      "outputs": [
        {
          "output_type": "execute_result",
          "data": {
            "text/plain": [
              "torch.Size([3])"
            ]
          },
          "metadata": {},
          "execution_count": 86
        }
      ]
    },
    {
      "cell_type": "code",
      "source": [
        "test_1.ndim"
      ],
      "metadata": {
        "colab": {
          "base_uri": "https://localhost:8080/"
        },
        "id": "TotrpL9dfvtx",
        "outputId": "bff623c1-ed7d-4348-b5a9-050a8ec68a60"
      },
      "execution_count": null,
      "outputs": [
        {
          "output_type": "execute_result",
          "data": {
            "text/plain": [
              "1"
            ]
          },
          "metadata": {},
          "execution_count": 87
        }
      ]
    },
    {
      "cell_type": "code",
      "source": [
        "test_2 = torch.tensor([[1, 2], [2, 3], [3, 4]])\n",
        "\n",
        "test_2.shape\n",
        "# Inside the dim = 0 there is 3 arrays, inside those (dim = 1) there are 2 items"
      ],
      "metadata": {
        "colab": {
          "base_uri": "https://localhost:8080/"
        },
        "id": "r9ITfLmOaEKF",
        "outputId": "963daee1-1b55-4782-f6e1-307d6a96fb01"
      },
      "execution_count": null,
      "outputs": [
        {
          "output_type": "execute_result",
          "data": {
            "text/plain": [
              "torch.Size([3, 2])"
            ]
          },
          "metadata": {},
          "execution_count": 82
        }
      ]
    },
    {
      "cell_type": "code",
      "source": [
        "test_2.ndim"
      ],
      "metadata": {
        "colab": {
          "base_uri": "https://localhost:8080/"
        },
        "id": "UBYqx3Ttfz65",
        "outputId": "f9a2a8be-2e50-4ec0-9e7f-7a65d1b56980"
      },
      "execution_count": null,
      "outputs": [
        {
          "output_type": "execute_result",
          "data": {
            "text/plain": [
              "2"
            ]
          },
          "metadata": {},
          "execution_count": 88
        }
      ]
    },
    {
      "cell_type": "code",
      "source": [
        "test_3 = torch.tensor([[[], []] , [[], []], [[], []]])\n",
        "\n",
        "test_3.shape\n",
        "# Inside the dim = 0 there is 3 arrays, inside those (dim = 1) there are 2 arrays (dim = 2), each with 0 items"
      ],
      "metadata": {
        "colab": {
          "base_uri": "https://localhost:8080/"
        },
        "id": "CJlNqFAvashb",
        "outputId": "69ec3f0d-1d23-44cb-8330-302aa7190644"
      },
      "execution_count": null,
      "outputs": [
        {
          "output_type": "execute_result",
          "data": {
            "text/plain": [
              "torch.Size([3, 2, 0])"
            ]
          },
          "metadata": {},
          "execution_count": 83
        }
      ]
    },
    {
      "cell_type": "code",
      "source": [
        "test_3.ndim"
      ],
      "metadata": {
        "colab": {
          "base_uri": "https://localhost:8080/"
        },
        "id": "5EPPkw8Nf8n4",
        "outputId": "648453c1-fed4-454f-b18e-0f94c488ac40"
      },
      "execution_count": null,
      "outputs": [
        {
          "output_type": "execute_result",
          "data": {
            "text/plain": [
              "3"
            ]
          },
          "metadata": {},
          "execution_count": 89
        }
      ]
    },
    {
      "cell_type": "code",
      "source": [
        "test_4 = torch.tensor([[[1], [1]] , [[1], [1]], [[1], [1]]])\n",
        "\n",
        "test_4.shape\n",
        "# Inside the dim = 0 there is 3 arrays (dim = 1), inside those there are 2 arrays (dim = 2), each with 1 item"
      ],
      "metadata": {
        "colab": {
          "base_uri": "https://localhost:8080/"
        },
        "id": "5vime5V_cFcg",
        "outputId": "7fa618e4-21c2-48d9-e0fa-2cabe890cd74"
      },
      "execution_count": null,
      "outputs": [
        {
          "output_type": "execute_result",
          "data": {
            "text/plain": [
              "torch.Size([3, 2, 1])"
            ]
          },
          "metadata": {},
          "execution_count": 84
        }
      ]
    },
    {
      "cell_type": "code",
      "source": [
        "test_4.ndim"
      ],
      "metadata": {
        "colab": {
          "base_uri": "https://localhost:8080/"
        },
        "id": "LWTyH-22dlMt",
        "outputId": "3fdc3854-ac08-4bbe-a39e-96070f096057"
      },
      "execution_count": null,
      "outputs": [
        {
          "output_type": "execute_result",
          "data": {
            "text/plain": [
              "3"
            ]
          },
          "metadata": {},
          "execution_count": 90
        }
      ]
    },
    {
      "cell_type": "code",
      "source": [
        "test_5 = torch.tensor([[[[[[]]]]]])\n",
        "test_5.ndim"
      ],
      "metadata": {
        "colab": {
          "base_uri": "https://localhost:8080/"
        },
        "id": "FFB5UgqOg_2v",
        "outputId": "ca1c1a9b-951a-4db5-c238-9e7b6149f9aa"
      },
      "execution_count": null,
      "outputs": [
        {
          "output_type": "execute_result",
          "data": {
            "text/plain": [
              "6"
            ]
          },
          "metadata": {},
          "execution_count": 91
        }
      ]
    },
    {
      "cell_type": "code",
      "source": [
        "test_5.shape"
      ],
      "metadata": {
        "colab": {
          "base_uri": "https://localhost:8080/"
        },
        "id": "EEbdrAq5i50G",
        "outputId": "22b24cdd-b7fe-4114-e950-bc7adcf8321a"
      },
      "execution_count": null,
      "outputs": [
        {
          "output_type": "execute_result",
          "data": {
            "text/plain": [
              "torch.Size([1, 1, 1, 1, 1, 0])"
            ]
          },
          "metadata": {},
          "execution_count": 92
        }
      ]
    },
    {
      "cell_type": "code",
      "source": [
        "scalar = torch.tensor(1)\n",
        "# A scalar has a single value | Lowercase\n",
        "scalar.item()"
      ],
      "metadata": {
        "colab": {
          "base_uri": "https://localhost:8080/"
        },
        "id": "jOcN3rLkkMKi",
        "outputId": "d85b1503-e5c3-4dbe-a608-2f792279006a"
      },
      "execution_count": null,
      "outputs": [
        {
          "output_type": "execute_result",
          "data": {
            "text/plain": [
              "1"
            ]
          },
          "metadata": {},
          "execution_count": 99
        }
      ]
    },
    {
      "cell_type": "code",
      "source": [
        "scalar = torch.tensor(1, 2, 3)"
      ],
      "metadata": {
        "colab": {
          "base_uri": "https://localhost:8080/",
          "height": 141
        },
        "id": "T0kG2gixjZS4",
        "outputId": "fe0b0468-fc88-48fb-c004-3d03ec1fcfd5"
      },
      "execution_count": null,
      "outputs": [
        {
          "output_type": "error",
          "ename": "TypeError",
          "evalue": "tensor() takes 1 positional argument but 3 were given",
          "traceback": [
            "\u001b[0;31m---------------------------------------------------------------------------\u001b[0m",
            "\u001b[0;31mTypeError\u001b[0m                                 Traceback (most recent call last)",
            "\u001b[0;32m<ipython-input-93-3d05b3019fb8>\u001b[0m in \u001b[0;36m<cell line: 0>\u001b[0;34m()\u001b[0m\n\u001b[0;32m----> 1\u001b[0;31m \u001b[0mscalar\u001b[0m \u001b[0;34m=\u001b[0m \u001b[0mtorch\u001b[0m\u001b[0;34m.\u001b[0m\u001b[0mtensor\u001b[0m\u001b[0;34m(\u001b[0m\u001b[0;36m1\u001b[0m\u001b[0;34m,\u001b[0m \u001b[0;36m2\u001b[0m\u001b[0;34m,\u001b[0m \u001b[0;36m3\u001b[0m\u001b[0;34m)\u001b[0m\u001b[0;34m\u001b[0m\u001b[0;34m\u001b[0m\u001b[0m\n\u001b[0m",
            "\u001b[0;31mTypeError\u001b[0m: tensor() takes 1 positional argument but 3 were given"
          ]
        }
      ]
    },
    {
      "cell_type": "code",
      "source": [
        "test_5.item()"
      ],
      "metadata": {
        "colab": {
          "base_uri": "https://localhost:8080/",
          "height": 141
        },
        "id": "m7_AJgWVkr3Y",
        "outputId": "90b499b3-2a57-4422-bc1a-4e32cd469870"
      },
      "execution_count": null,
      "outputs": [
        {
          "output_type": "error",
          "ename": "RuntimeError",
          "evalue": "a Tensor with 0 elements cannot be converted to Scalar",
          "traceback": [
            "\u001b[0;31m---------------------------------------------------------------------------\u001b[0m",
            "\u001b[0;31mRuntimeError\u001b[0m                              Traceback (most recent call last)",
            "\u001b[0;32m<ipython-input-98-96d37e4c930d>\u001b[0m in \u001b[0;36m<cell line: 0>\u001b[0;34m()\u001b[0m\n\u001b[0;32m----> 1\u001b[0;31m \u001b[0mtest_5\u001b[0m\u001b[0;34m.\u001b[0m\u001b[0mitem\u001b[0m\u001b[0;34m(\u001b[0m\u001b[0;34m)\u001b[0m\u001b[0;34m\u001b[0m\u001b[0;34m\u001b[0m\u001b[0m\n\u001b[0m",
            "\u001b[0;31mRuntimeError\u001b[0m: a Tensor with 0 elements cannot be converted to Scalar"
          ]
        }
      ]
    },
    {
      "cell_type": "code",
      "source": [
        "vector = torch.tensor([1, 2, 3])\n",
        "# 1 dimension | Lowercase"
      ],
      "metadata": {
        "id": "h_fwSFKCkGoT"
      },
      "execution_count": null,
      "outputs": []
    },
    {
      "cell_type": "code",
      "source": [
        "MATRIX = torch.tensor([[1, 2 ,3],\n",
        "                       [4, 5, 6],\n",
        "                       [7, 8, 9]])\n",
        "# 2 dimensions | Uppercase"
      ],
      "metadata": {
        "id": "kT-kG_0kkauF"
      },
      "execution_count": null,
      "outputs": []
    },
    {
      "cell_type": "code",
      "source": [
        "TENSOR = torch.tensor([[[1], [2]],\n",
        "                       [[3], [4]],\n",
        "                       [[5], [6]]])\n",
        "# 3 ~ n  dimensions | Uppercase"
      ],
      "metadata": {
        "id": "dquUY3ualfRD"
      },
      "execution_count": null,
      "outputs": []
    },
    {
      "cell_type": "markdown",
      "source": [
        "## Random tensors"
      ],
      "metadata": {
        "id": "PianZlXfmGbQ"
      }
    },
    {
      "cell_type": "code",
      "source": [
        " random_tensor = torch.rand(2, 3, 2, 3)"
      ],
      "metadata": {
        "id": "Trd9kYZknSyQ"
      },
      "execution_count": null,
      "outputs": []
    },
    {
      "cell_type": "code",
      "source": [
        "random_tensor"
      ],
      "metadata": {
        "colab": {
          "base_uri": "https://localhost:8080/"
        },
        "id": "p3cgh5kAoe7n",
        "outputId": "97f4e327-9934-49ed-cfee-71c255def2a0"
      },
      "execution_count": null,
      "outputs": [
        {
          "output_type": "execute_result",
          "data": {
            "text/plain": [
              "tensor([[[[0.6103, 0.8248, 0.9316],\n",
              "          [0.8466, 0.8497, 0.6099]],\n",
              "\n",
              "         [[0.1417, 0.0412, 0.5058],\n",
              "          [0.7883, 0.8350, 0.3969]],\n",
              "\n",
              "         [[0.2123, 0.9345, 0.8485],\n",
              "          [0.6994, 0.4530, 0.2059]]],\n",
              "\n",
              "\n",
              "        [[[0.9733, 0.3555, 0.5157],\n",
              "          [0.6591, 0.4436, 0.0888]],\n",
              "\n",
              "         [[0.1373, 0.1783, 0.2724],\n",
              "          [0.7330, 0.3688, 0.7512]],\n",
              "\n",
              "         [[0.0682, 0.2601, 0.9580],\n",
              "          [0.8144, 0.4415, 0.0993]]]])"
            ]
          },
          "metadata": {},
          "execution_count": 105
        }
      ]
    },
    {
      "cell_type": "code",
      "source": [
        "random_tensor.ndim"
      ],
      "metadata": {
        "colab": {
          "base_uri": "https://localhost:8080/"
        },
        "id": "Ge5r-XzyohIF",
        "outputId": "1305072d-7b55-435d-fff5-96079c26fabe"
      },
      "execution_count": null,
      "outputs": [
        {
          "output_type": "execute_result",
          "data": {
            "text/plain": [
              "4"
            ]
          },
          "metadata": {},
          "execution_count": 106
        }
      ]
    },
    {
      "cell_type": "code",
      "source": [
        "random_tensor.shape"
      ],
      "metadata": {
        "colab": {
          "base_uri": "https://localhost:8080/"
        },
        "id": "TGTzjtLxpOvM",
        "outputId": "d4a0fde8-30a1-4443-bc98-9bedb87b1c58"
      },
      "execution_count": null,
      "outputs": [
        {
          "output_type": "execute_result",
          "data": {
            "text/plain": [
              "torch.Size([2, 3, 2, 3])"
            ]
          },
          "metadata": {},
          "execution_count": 108
        }
      ]
    },
    {
      "cell_type": "code",
      "source": [
        " random_image_size_tensor = torch.rand(size=(224, 224, 3)) # size is not necessary really\n",
        " random_image_size_tensor.shape, random_image_size_tensor.ndim"
      ],
      "metadata": {
        "colab": {
          "base_uri": "https://localhost:8080/"
        },
        "id": "Upd_iJvopQ-f",
        "outputId": "5705ed8e-338e-4b1e-bd2e-9d26251a66d3"
      },
      "execution_count": null,
      "outputs": [
        {
          "output_type": "execute_result",
          "data": {
            "text/plain": [
              "(torch.Size([224, 224, 3]), 3)"
            ]
          },
          "metadata": {},
          "execution_count": 110
        }
      ]
    },
    {
      "cell_type": "markdown",
      "source": [
        "## Range of tensors"
      ],
      "metadata": {
        "id": "kwUDN6pAsZd5"
      }
    },
    {
      "cell_type": "code",
      "source": [
        "digits = torch.arange(0, 10)\n",
        "digits"
      ],
      "metadata": {
        "colab": {
          "base_uri": "https://localhost:8080/"
        },
        "id": "WkqifZ_KyL2x",
        "outputId": "44ef3a06-4fb6-48c5-a148-e9e4e35e41ea"
      },
      "execution_count": null,
      "outputs": [
        {
          "output_type": "execute_result",
          "data": {
            "text/plain": [
              "tensor([0, 1, 2, 3, 4, 5, 6, 7, 8, 9])"
            ]
          },
          "metadata": {},
          "execution_count": 124
        }
      ]
    },
    {
      "cell_type": "code",
      "source": [
        "pairs = torch.arange(start=0, end=101, step=2) # Again, the variables are not necessary\n",
        "pairs"
      ],
      "metadata": {
        "colab": {
          "base_uri": "https://localhost:8080/"
        },
        "id": "hsASOdz5ySeE",
        "outputId": "1e1f0f6b-9116-4a47-f494-e40525811b93"
      },
      "execution_count": null,
      "outputs": [
        {
          "output_type": "execute_result",
          "data": {
            "text/plain": [
              "tensor([  0,   2,   4,   6,   8,  10,  12,  14,  16,  18,  20,  22,  24,  26,\n",
              "         28,  30,  32,  34,  36,  38,  40,  42,  44,  46,  48,  50,  52,  54,\n",
              "         56,  58,  60,  62,  64,  66,  68,  70,  72,  74,  76,  78,  80,  82,\n",
              "         84,  86,  88,  90,  92,  94,  96,  98, 100])"
            ]
          },
          "metadata": {},
          "execution_count": 121
        }
      ]
    },
    {
      "cell_type": "code",
      "source": [
        "digits_zeros = torch.zeros_like(input=digits)\n",
        "digits_zeros"
      ],
      "metadata": {
        "colab": {
          "base_uri": "https://localhost:8080/"
        },
        "id": "9LjFx3rTy4EI",
        "outputId": "54f09b53-1383-4cf1-dfd7-ff860b460458"
      },
      "execution_count": null,
      "outputs": [
        {
          "output_type": "execute_result",
          "data": {
            "text/plain": [
              "tensor([0, 0, 0, 0, 0, 0, 0, 0, 0, 0])"
            ]
          },
          "metadata": {},
          "execution_count": 123
        }
      ]
    },
    {
      "cell_type": "markdown",
      "source": [
        "## Datatypes"
      ],
      "metadata": {
        "id": "n4zAQyPDzXoc"
      }
    },
    {
      "cell_type": "code",
      "source": [
        "data = torch.tensor([1.0, 3.0, 5.0], dtype = None, #float32 (default) or float16\n",
        "                                     device = None, #cpu, cuda\n",
        "                                     requires_grad = False) #track gradients\n",
        "data.dtype"
      ],
      "metadata": {
        "id": "nqavy5jTzrKD",
        "colab": {
          "base_uri": "https://localhost:8080/"
        },
        "outputId": "8eef7857-56fc-454f-d22a-d203ceb500fb"
      },
      "execution_count": null,
      "outputs": [
        {
          "output_type": "execute_result",
          "data": {
            "text/plain": [
              "torch.float32"
            ]
          },
          "metadata": {},
          "execution_count": 130
        }
      ]
    },
    {
      "cell_type": "markdown",
      "source": [
        "### Getting information from tensor (attributes)\n",
        "1. Not right datatype - `tensor.dtype`\n",
        "2. || shape - `tensor.shape`\n",
        "3. || device - `tensor.device`"
      ],
      "metadata": {
        "id": "mkzSmOBa5Hp8"
      }
    },
    {
      "cell_type": "code",
      "source": [
        "eg_tensor = torch.rand(3, 4)\n",
        "eg_tensor.dtype, eg_tensor.shape, eg_tensor.device"
      ],
      "metadata": {
        "id": "-m89x9lC5aDG",
        "colab": {
          "base_uri": "https://localhost:8080/"
        },
        "outputId": "73512b21-492c-4c9f-cc95-c67e6fad40bd"
      },
      "execution_count": null,
      "outputs": [
        {
          "output_type": "execute_result",
          "data": {
            "text/plain": [
              "(torch.float32, torch.Size([3, 4]), device(type='cpu'))"
            ]
          },
          "metadata": {},
          "execution_count": 174
        }
      ]
    },
    {
      "cell_type": "markdown",
      "source": [
        "* Changing the type value"
      ],
      "metadata": {
        "id": "VDs5bfTpSMax"
      }
    },
    {
      "cell_type": "code",
      "source": [
        "eg_tensor.type(torch.float16)"
      ],
      "metadata": {
        "colab": {
          "base_uri": "https://localhost:8080/",
          "height": 159
        },
        "id": "mRPCgrTo79So",
        "outputId": "ca76af8f-c0d7-43a7-8458-f75a412b39d6"
      },
      "execution_count": null,
      "outputs": [
        {
          "output_type": "error",
          "ename": "TypeError",
          "evalue": "'torch.device' object is not callable",
          "traceback": [
            "\u001b[0;31m---------------------------------------------------------------------------\u001b[0m",
            "\u001b[0;31mTypeError\u001b[0m                                 Traceback (most recent call last)",
            "\u001b[0;32m<ipython-input-177-fe280a264c04>\u001b[0m in \u001b[0;36m<cell line: 0>\u001b[0;34m()\u001b[0m\n\u001b[1;32m      1\u001b[0m \u001b[0meg_tensor\u001b[0m\u001b[0;34m.\u001b[0m\u001b[0mtype\u001b[0m\u001b[0;34m(\u001b[0m\u001b[0mtorch\u001b[0m\u001b[0;34m.\u001b[0m\u001b[0mfloat16\u001b[0m\u001b[0;34m)\u001b[0m\u001b[0;34m\u001b[0m\u001b[0;34m\u001b[0m\u001b[0m\n\u001b[0;32m----> 2\u001b[0;31m \u001b[0meg_tensor\u001b[0m\u001b[0;34m.\u001b[0m\u001b[0mdevice\u001b[0m\u001b[0;34m(\u001b[0m\u001b[0;34m\"cuda\"\u001b[0m\u001b[0;34m)\u001b[0m\u001b[0;34m\u001b[0m\u001b[0;34m\u001b[0m\u001b[0m\n\u001b[0m",
            "\u001b[0;31mTypeError\u001b[0m: 'torch.device' object is not callable"
          ]
        }
      ]
    },
    {
      "cell_type": "markdown",
      "source": [
        "## Manipulating Tensors (tensor operations)\n",
        "\n",
        "* Addition\n",
        "* Subtraction\n",
        "* Multiplication (element-wise)\n",
        "* Division\n",
        "* Matrix multiplication"
      ],
      "metadata": {
        "id": "m0B-2Pwq80i6"
      }
    },
    {
      "cell_type": "code",
      "source": [
        "tensor = torch.tensor([1, 2, 3])\n",
        "tensor + 100"
      ],
      "metadata": {
        "colab": {
          "base_uri": "https://localhost:8080/"
        },
        "id": "lbHPge7B851b",
        "outputId": "40637a4d-e299-4251-d5ea-c04b5727f507"
      },
      "execution_count": null,
      "outputs": [
        {
          "output_type": "execute_result",
          "data": {
            "text/plain": [
              "tensor([101, 102, 103])"
            ]
          },
          "metadata": {},
          "execution_count": 134
        }
      ]
    },
    {
      "cell_type": "code",
      "source": [],
      "metadata": {
        "id": "dRqQHv8F9pe6"
      },
      "execution_count": null,
      "outputs": []
    },
    {
      "cell_type": "code",
      "source": [
        "tensor - 100"
      ],
      "metadata": {
        "colab": {
          "base_uri": "https://localhost:8080/"
        },
        "id": "ADgbZz8c9ls2",
        "outputId": "aa21728a-3882-489b-a49d-cef96b29a578"
      },
      "execution_count": null,
      "outputs": [
        {
          "output_type": "execute_result",
          "data": {
            "text/plain": [
              "tensor([-99, -98, -97])"
            ]
          },
          "metadata": {},
          "execution_count": 136
        }
      ]
    },
    {
      "cell_type": "code",
      "source": [
        "tensor * 100"
      ],
      "metadata": {
        "colab": {
          "base_uri": "https://localhost:8080/"
        },
        "id": "oHZrFJ4D9fpK",
        "outputId": "8a7e352e-dbe9-421c-f118-cb003fc01913"
      },
      "execution_count": null,
      "outputs": [
        {
          "output_type": "execute_result",
          "data": {
            "text/plain": [
              "tensor([100, 200, 300])"
            ]
          },
          "metadata": {},
          "execution_count": 135
        }
      ]
    },
    {
      "cell_type": "code",
      "source": [
        "tensor / 10"
      ],
      "metadata": {
        "colab": {
          "base_uri": "https://localhost:8080/"
        },
        "id": "-3km4_jg9vBB",
        "outputId": "4dcf1399-5245-4873-a448-e8165a8c41ad"
      },
      "execution_count": null,
      "outputs": [
        {
          "output_type": "execute_result",
          "data": {
            "text/plain": [
              "tensor([0.1000, 0.2000, 0.3000])"
            ]
          },
          "metadata": {},
          "execution_count": 137
        }
      ]
    },
    {
      "cell_type": "code",
      "source": [
        "tensor * tensor"
      ],
      "metadata": {
        "colab": {
          "base_uri": "https://localhost:8080/"
        },
        "id": "xm23ComY9wSu",
        "outputId": "8a240c10-f712-40ec-9edd-f01d3943c2c1"
      },
      "execution_count": null,
      "outputs": [
        {
          "output_type": "execute_result",
          "data": {
            "text/plain": [
              "tensor([1, 4, 9])"
            ]
          },
          "metadata": {},
          "execution_count": 138
        }
      ]
    },
    {
      "cell_type": "code",
      "source": [
        "tensor_a = torch.tensor([[1, 2, 3], [4, 5, 6]])\n",
        "tensor_b = torch.tensor([[7, 8, 9], [10, 11, 12]])\n",
        "tensor_c = torch.tensor([[7, 8], [9, 10], [11, 12]])\n",
        "\n",
        "tensor_a * tensor_b #Element wise product"
      ],
      "metadata": {
        "colab": {
          "base_uri": "https://localhost:8080/"
        },
        "id": "2hbLjMV09zEy",
        "outputId": "82e4d092-5cb0-4104-a434-5b2e38d4f322"
      },
      "execution_count": null,
      "outputs": [
        {
          "output_type": "execute_result",
          "data": {
            "text/plain": [
              "tensor([[ 7, 16, 27],\n",
              "        [40, 55, 72]])"
            ]
          },
          "metadata": {},
          "execution_count": 149
        }
      ]
    },
    {
      "cell_type": "code",
      "source": [
        "%%time\n",
        "torch.matmul(tensor_a, tensor_c) #Multiplying with matrix"
      ],
      "metadata": {
        "colab": {
          "base_uri": "https://localhost:8080/"
        },
        "id": "FL7PAE9B_xGW",
        "outputId": "9ca9257f-61db-41eb-8d82-0d3c958c8161"
      },
      "execution_count": null,
      "outputs": [
        {
          "output_type": "stream",
          "name": "stdout",
          "text": [
            "CPU times: user 597 µs, sys: 0 ns, total: 597 µs\n",
            "Wall time: 387 µs\n"
          ]
        },
        {
          "output_type": "execute_result",
          "data": {
            "text/plain": [
              "tensor([[ 58,  64],\n",
              "        [139, 154]])"
            ]
          },
          "metadata": {},
          "execution_count": 162
        }
      ]
    },
    {
      "cell_type": "markdown",
      "source": [
        "### For the matrixes multiplication to work the number of inner values must be equal\n",
        "* `(2, 3) @ (3, 2) Will work`\n",
        "* `(2, 3) @ (2, 3) Will not work`"
      ],
      "metadata": {
        "id": "LJlVwpTJEx7q"
      }
    },
    {
      "cell_type": "code",
      "source": [
        "torch.matmul(torch.rand(2, 3), torch.rand(3, 2))"
      ],
      "metadata": {
        "colab": {
          "base_uri": "https://localhost:8080/"
        },
        "id": "aJWAZt3-HJWT",
        "outputId": "70fcb808-a2c0-4509-f5b8-4ce4fa50292a"
      },
      "execution_count": null,
      "outputs": [
        {
          "output_type": "execute_result",
          "data": {
            "text/plain": [
              "tensor([[0.0792, 0.0481],\n",
              "        [0.3452, 0.2453]])"
            ]
          },
          "metadata": {},
          "execution_count": 163
        }
      ]
    },
    {
      "cell_type": "code",
      "source": [
        "torch.matmul(torch.rand(3, 2), torch.rand(3, 2))"
      ],
      "metadata": {
        "colab": {
          "base_uri": "https://localhost:8080/",
          "height": 141
        },
        "id": "bF8QO_THHc4F",
        "outputId": "aeb85487-7fff-4b8b-b42f-c94edb9578cc"
      },
      "execution_count": null,
      "outputs": [
        {
          "output_type": "error",
          "ename": "RuntimeError",
          "evalue": "mat1 and mat2 shapes cannot be multiplied (3x2 and 3x2)",
          "traceback": [
            "\u001b[0;31m---------------------------------------------------------------------------\u001b[0m",
            "\u001b[0;31mRuntimeError\u001b[0m                              Traceback (most recent call last)",
            "\u001b[0;32m<ipython-input-164-9adeb7046560>\u001b[0m in \u001b[0;36m<cell line: 0>\u001b[0;34m()\u001b[0m\n\u001b[0;32m----> 1\u001b[0;31m \u001b[0mtorch\u001b[0m\u001b[0;34m.\u001b[0m\u001b[0mmatmul\u001b[0m\u001b[0;34m(\u001b[0m\u001b[0mtorch\u001b[0m\u001b[0;34m.\u001b[0m\u001b[0mrand\u001b[0m\u001b[0;34m(\u001b[0m\u001b[0;36m3\u001b[0m\u001b[0;34m,\u001b[0m \u001b[0;36m2\u001b[0m\u001b[0;34m)\u001b[0m\u001b[0;34m,\u001b[0m \u001b[0mtorch\u001b[0m\u001b[0;34m.\u001b[0m\u001b[0mrand\u001b[0m\u001b[0;34m(\u001b[0m\u001b[0;36m3\u001b[0m\u001b[0;34m,\u001b[0m \u001b[0;36m2\u001b[0m\u001b[0;34m)\u001b[0m\u001b[0;34m)\u001b[0m\u001b[0;34m\u001b[0m\u001b[0;34m\u001b[0m\u001b[0m\n\u001b[0m",
            "\u001b[0;31mRuntimeError\u001b[0m: mat1 and mat2 shapes cannot be multiplied (3x2 and 3x2)"
          ]
        }
      ]
    },
    {
      "cell_type": "markdown",
      "source": [
        "* To fix a shape issue use **transpose** (**T**) attribute, which shifts the axes or dimensions of a given tensor"
      ],
      "metadata": {
        "id": "gTZK-MoJHhAN"
      }
    },
    {
      "cell_type": "code",
      "source": [
        "tensor_a, tensor_b"
      ],
      "metadata": {
        "colab": {
          "base_uri": "https://localhost:8080/"
        },
        "id": "mKoPJzOKLGu8",
        "outputId": "54e025bf-03a6-4dcc-fe58-8b6123cc4e39"
      },
      "execution_count": null,
      "outputs": [
        {
          "output_type": "execute_result",
          "data": {
            "text/plain": [
              "(tensor([[1, 2, 3],\n",
              "         [4, 5, 6]]),\n",
              " tensor([[ 7,  8,  9],\n",
              "         [10, 11, 12]]))"
            ]
          },
          "metadata": {},
          "execution_count": 165
        }
      ]
    },
    {
      "cell_type": "code",
      "source": [
        "torch.matmul(tensor_a, tensor_b)"
      ],
      "metadata": {
        "colab": {
          "base_uri": "https://localhost:8080/",
          "height": 141
        },
        "id": "Y4hE1Vl5LYxO",
        "outputId": "1418d1a9-637e-4a5f-9fa1-f23e99348bf2"
      },
      "execution_count": null,
      "outputs": [
        {
          "output_type": "error",
          "ename": "RuntimeError",
          "evalue": "mat1 and mat2 shapes cannot be multiplied (2x3 and 2x3)",
          "traceback": [
            "\u001b[0;31m---------------------------------------------------------------------------\u001b[0m",
            "\u001b[0;31mRuntimeError\u001b[0m                              Traceback (most recent call last)",
            "\u001b[0;32m<ipython-input-166-81b9bfcc5271>\u001b[0m in \u001b[0;36m<cell line: 0>\u001b[0;34m()\u001b[0m\n\u001b[0;32m----> 1\u001b[0;31m \u001b[0mtorch\u001b[0m\u001b[0;34m.\u001b[0m\u001b[0mmatmul\u001b[0m\u001b[0;34m(\u001b[0m\u001b[0mtensor_a\u001b[0m\u001b[0;34m,\u001b[0m \u001b[0mtensor_b\u001b[0m\u001b[0;34m)\u001b[0m\u001b[0;34m\u001b[0m\u001b[0;34m\u001b[0m\u001b[0m\n\u001b[0m",
            "\u001b[0;31mRuntimeError\u001b[0m: mat1 and mat2 shapes cannot be multiplied (2x3 and 2x3)"
          ]
        }
      ]
    },
    {
      "cell_type": "code",
      "source": [
        "tensor_b.T"
      ],
      "metadata": {
        "colab": {
          "base_uri": "https://localhost:8080/"
        },
        "id": "T3dCDiu_LeVo",
        "outputId": "f2596fc3-f894-4327-9de6-d29c767689d7"
      },
      "execution_count": null,
      "outputs": [
        {
          "output_type": "execute_result",
          "data": {
            "text/plain": [
              "tensor([[ 7, 10],\n",
              "        [ 8, 11],\n",
              "        [ 9, 12]])"
            ]
          },
          "metadata": {},
          "execution_count": 167
        }
      ]
    },
    {
      "cell_type": "code",
      "source": [
        "torch.matmul(tensor_a, tensor_b.T)"
      ],
      "metadata": {
        "colab": {
          "base_uri": "https://localhost:8080/"
        },
        "id": "pZVjZim5LkQO",
        "outputId": "bbc0cc06-45a1-4735-b733-9e9802b6bc9f"
      },
      "execution_count": null,
      "outputs": [
        {
          "output_type": "execute_result",
          "data": {
            "text/plain": [
              "tensor([[ 50,  68],\n",
              "        [122, 167]])"
            ]
          },
          "metadata": {},
          "execution_count": 168
        }
      ]
    },
    {
      "cell_type": "code",
      "source": [
        "tensor_b, tensor_b.T"
      ],
      "metadata": {
        "colab": {
          "base_uri": "https://localhost:8080/"
        },
        "id": "6tK2_xfTL_59",
        "outputId": "ae60c8fe-2864-4598-d249-61aa7f4c3dda"
      },
      "execution_count": null,
      "outputs": [
        {
          "output_type": "execute_result",
          "data": {
            "text/plain": [
              "(tensor([[ 7,  8,  9],\n",
              "         [10, 11, 12]]),\n",
              " tensor([[ 7, 10],\n",
              "         [ 8, 11],\n",
              "         [ 9, 12]]))"
            ]
          },
          "metadata": {},
          "execution_count": 169
        }
      ]
    },
    {
      "cell_type": "code",
      "source": [
        "tensor_b.shape, tensor_b.T.shape"
      ],
      "metadata": {
        "colab": {
          "base_uri": "https://localhost:8080/"
        },
        "id": "YMPiP9vsMMht",
        "outputId": "c49a1ad6-adcb-4dab-830c-77ca4893b6b3"
      },
      "execution_count": null,
      "outputs": [
        {
          "output_type": "execute_result",
          "data": {
            "text/plain": [
              "(torch.Size([2, 3]), torch.Size([3, 2]))"
            ]
          },
          "metadata": {},
          "execution_count": 170
        }
      ]
    },
    {
      "cell_type": "markdown",
      "source": [
        "## Finding min, max, mean (average), sum, etc"
      ],
      "metadata": {
        "id": "rPagMndXMSY9"
      }
    },
    {
      "cell_type": "code",
      "source": [
        "x = torch.arange(5, 110, 10)\n",
        "x, x.dtype"
      ],
      "metadata": {
        "colab": {
          "base_uri": "https://localhost:8080/"
        },
        "id": "BQD6AUj9Qh2g",
        "outputId": "502357a0-0164-4f1b-e5d0-c6065a8eee64"
      },
      "execution_count": null,
      "outputs": [
        {
          "output_type": "execute_result",
          "data": {
            "text/plain": [
              "(tensor([  5,  15,  25,  35,  45,  55,  65,  75,  85,  95, 105]), torch.int64)"
            ]
          },
          "metadata": {},
          "execution_count": 13
        }
      ]
    },
    {
      "cell_type": "code",
      "source": [
        "x.min(), torch.min(x)"
      ],
      "metadata": {
        "colab": {
          "base_uri": "https://localhost:8080/"
        },
        "id": "-m7c8u5WQvb1",
        "outputId": "c02efa83-46b6-4667-fed4-536ce75ed7e2"
      },
      "execution_count": null,
      "outputs": [
        {
          "output_type": "execute_result",
          "data": {
            "text/plain": [
              "(tensor(5), tensor(5))"
            ]
          },
          "metadata": {},
          "execution_count": 14
        }
      ]
    },
    {
      "cell_type": "code",
      "source": [
        "x.max(), torch.max(x)"
      ],
      "metadata": {
        "colab": {
          "base_uri": "https://localhost:8080/"
        },
        "id": "8Qgq-OaTRO2U",
        "outputId": "84193e53-72d3-489c-9cb0-5d9ed0af8b36"
      },
      "execution_count": null,
      "outputs": [
        {
          "output_type": "execute_result",
          "data": {
            "text/plain": [
              "(tensor(105), tensor(105))"
            ]
          },
          "metadata": {},
          "execution_count": 15
        }
      ]
    },
    {
      "cell_type": "markdown",
      "source": [
        "* The mean method requires a floating point type of data"
      ],
      "metadata": {
        "id": "-k8eJ1OqS1_R"
      }
    },
    {
      "cell_type": "code",
      "source": [
        "x.type(torch.float32).mean()"
      ],
      "metadata": {
        "colab": {
          "base_uri": "https://localhost:8080/"
        },
        "id": "M4SgKJVtSWFJ",
        "outputId": "802bcc1a-cbd1-43f8-cd43-78452a840642"
      },
      "execution_count": null,
      "outputs": [
        {
          "output_type": "execute_result",
          "data": {
            "text/plain": [
              "tensor(55.)"
            ]
          },
          "metadata": {},
          "execution_count": 16
        }
      ]
    },
    {
      "cell_type": "code",
      "source": [
        "x.sum(), torch.sum(x)"
      ],
      "metadata": {
        "colab": {
          "base_uri": "https://localhost:8080/"
        },
        "id": "qxEwDQbEhtUZ",
        "outputId": "04bb7760-c390-485d-bfc1-c66077d17eb5"
      },
      "execution_count": null,
      "outputs": [
        {
          "output_type": "execute_result",
          "data": {
            "text/plain": [
              "(tensor(605), tensor(605))"
            ]
          },
          "metadata": {},
          "execution_count": 17
        }
      ]
    },
    {
      "cell_type": "markdown",
      "source": [
        "* Finds the value"
      ],
      "metadata": {
        "id": "yRhnv5Tzix1X"
      }
    },
    {
      "cell_type": "code",
      "source": [
        "# Find the position of the minimum value in tensor\n",
        "x.argmin()"
      ],
      "metadata": {
        "colab": {
          "base_uri": "https://localhost:8080/"
        },
        "id": "Fh_q9jzRjLoa",
        "outputId": "538b8617-70db-4bb8-bf84-e0344fe1f68f"
      },
      "execution_count": null,
      "outputs": [
        {
          "output_type": "execute_result",
          "data": {
            "text/plain": [
              "tensor(0)"
            ]
          },
          "metadata": {},
          "execution_count": 19
        }
      ]
    },
    {
      "cell_type": "code",
      "source": [
        "# Uses the position found by the argmin method to get the minimum value\n",
        "x[0]"
      ],
      "metadata": {
        "colab": {
          "base_uri": "https://localhost:8080/"
        },
        "id": "yQyRe6afiRm8",
        "outputId": "a1e71447-a0bb-4799-e733-b6a8746e6a20"
      },
      "execution_count": null,
      "outputs": [
        {
          "output_type": "execute_result",
          "data": {
            "text/plain": [
              "tensor(5)"
            ]
          },
          "metadata": {},
          "execution_count": 18
        }
      ]
    },
    {
      "cell_type": "code",
      "source": [
        "# Find the position of the greatest value in tensor\n",
        "x.argmax()"
      ],
      "metadata": {
        "colab": {
          "base_uri": "https://localhost:8080/"
        },
        "id": "9KokIXgMkVD6",
        "outputId": "ed63d256-5c78-4569-8f43-b7c5bb10d4c5"
      },
      "execution_count": null,
      "outputs": [
        {
          "output_type": "execute_result",
          "data": {
            "text/plain": [
              "tensor(10)"
            ]
          },
          "metadata": {},
          "execution_count": 21
        }
      ]
    },
    {
      "cell_type": "code",
      "source": [
        "x[x.argmax()]"
      ],
      "metadata": {
        "colab": {
          "base_uri": "https://localhost:8080/"
        },
        "id": "Rl0wmorZkb1H",
        "outputId": "7d6331c5-5915-4001-c75e-d9a593506232"
      },
      "execution_count": null,
      "outputs": [
        {
          "output_type": "execute_result",
          "data": {
            "text/plain": [
              "tensor(105)"
            ]
          },
          "metadata": {},
          "execution_count": 22
        }
      ]
    },
    {
      "cell_type": "markdown",
      "source": [
        "## Reshaping, stacking, squeezing and unsqueezing tensors\n",
        "\n",
        "* **Reshaping:** reshapes an input tensor to a defined shape\n",
        "* **View:** does the same thing as reshaping but shares the same memory as the original when attributed to another variable\n",
        "* **Stacking:** - combines tensors on top of each other (vstack) or side by side (hstack)\n",
        "* **Squeeze:** removes all `1` dimensions from a tensor\n",
        "* **Unsqueeze:** add a `1` dimension to a target tensor\n",
        "* **Permute:** Return a view fo the input with dimensions permuted (swapped) in a certain way"
      ],
      "metadata": {
        "id": "g_PZdH4bkfxJ"
      }
    },
    {
      "cell_type": "code",
      "source": [
        "a = torch.rand(2, 2, 3)\n",
        "a"
      ],
      "metadata": {
        "colab": {
          "base_uri": "https://localhost:8080/"
        },
        "id": "_UdW1DnmleSm",
        "outputId": "b1987f3e-32ec-426a-de41-61f39819a455"
      },
      "execution_count": null,
      "outputs": [
        {
          "output_type": "execute_result",
          "data": {
            "text/plain": [
              "tensor([[[0.0677, 0.8971, 0.1116],\n",
              "         [0.4244, 0.8455, 0.9726]],\n",
              "\n",
              "        [[0.4584, 0.4286, 0.4805],\n",
              "         [0.9080, 0.0055, 0.5969]]])"
            ]
          },
          "metadata": {},
          "execution_count": 25
        }
      ]
    },
    {
      "cell_type": "markdown",
      "source": [
        "* To reshape take into account the number of elements must be equal, meaning the product must match the number of elements"
      ],
      "metadata": {
        "id": "oOOkgdeI8TZL"
      }
    },
    {
      "cell_type": "code",
      "source": [
        "a_reshaped = a.reshape(12)\n",
        "a_reshaped"
      ],
      "metadata": {
        "colab": {
          "base_uri": "https://localhost:8080/"
        },
        "id": "Q48ov6L27d18",
        "outputId": "6eab9b6d-cbe1-4db7-dd05-18ed4de37ce6"
      },
      "execution_count": null,
      "outputs": [
        {
          "output_type": "execute_result",
          "data": {
            "text/plain": [
              "tensor([0.0677, 0.8971, 0.1116, 0.4244, 0.8455, 0.9726, 0.4584, 0.4286, 0.4805,\n",
              "        0.9080, 0.0055, 0.5969])"
            ]
          },
          "metadata": {},
          "execution_count": 27
        }
      ]
    },
    {
      "cell_type": "code",
      "source": [
        "a_reshaped = a_reshaped.reshape(4, 3)\n",
        "a_reshaped"
      ],
      "metadata": {
        "colab": {
          "base_uri": "https://localhost:8080/"
        },
        "id": "pE4SULc2veff",
        "outputId": "a267e76d-6c32-4b85-d6fd-193d842c6e86"
      },
      "execution_count": null,
      "outputs": [
        {
          "output_type": "execute_result",
          "data": {
            "text/plain": [
              "tensor([[0.0677, 0.8971, 0.1116],\n",
              "        [0.4244, 0.8455, 0.9726],\n",
              "        [0.4584, 0.4286, 0.4805],\n",
              "        [0.9080, 0.0055, 0.5969]])"
            ]
          },
          "metadata": {},
          "execution_count": 38
        }
      ]
    },
    {
      "cell_type": "code",
      "source": [
        "b_view_a = a.view(2, 6)\n",
        "b_view_a"
      ],
      "metadata": {
        "colab": {
          "base_uri": "https://localhost:8080/"
        },
        "id": "ADu_tp_L83jx",
        "outputId": "e0910b2c-872f-4bba-c64b-3e25fefb58d4"
      },
      "execution_count": null,
      "outputs": [
        {
          "output_type": "execute_result",
          "data": {
            "text/plain": [
              "tensor([[0.0677, 0.8971, 0.1116, 0.4244, 0.8455, 0.9726],\n",
              "        [0.4584, 0.4286, 0.4805, 0.9080, 0.0055, 0.5969]])"
            ]
          },
          "metadata": {},
          "execution_count": 40
        }
      ]
    },
    {
      "cell_type": "code",
      "source": [
        "b_view_a[0][0] = 0.6677"
      ],
      "metadata": {
        "id": "LIp6CWHX-iIW"
      },
      "execution_count": null,
      "outputs": []
    },
    {
      "cell_type": "code",
      "source": [
        "a, b_view_a"
      ],
      "metadata": {
        "colab": {
          "base_uri": "https://localhost:8080/"
        },
        "id": "jGOfgwTA-tKs",
        "outputId": "58d3eb0d-cd42-4e22-9bc1-900ad9ef27cc"
      },
      "execution_count": null,
      "outputs": [
        {
          "output_type": "execute_result",
          "data": {
            "text/plain": [
              "(tensor([[[0.6677, 0.8971, 0.1116],\n",
              "          [0.4244, 0.8455, 0.9726]],\n",
              " \n",
              "         [[0.4584, 0.4286, 0.4805],\n",
              "          [0.9080, 0.0055, 0.5969]]]),\n",
              " tensor([[0.6677, 0.8971, 0.1116, 0.4244, 0.8455, 0.9726],\n",
              "         [0.4584, 0.4286, 0.4805, 0.9080, 0.0055, 0.5969]]))"
            ]
          },
          "metadata": {},
          "execution_count": 45
        }
      ]
    },
    {
      "cell_type": "markdown",
      "source": [
        "* Stack começa aqui"
      ],
      "metadata": {
        "id": "mGCV6enxEBCf"
      }
    },
    {
      "cell_type": "code",
      "source": [
        "stack = torch.rand(3, 3)\n",
        "stack, stack.ndim"
      ],
      "metadata": {
        "colab": {
          "base_uri": "https://localhost:8080/"
        },
        "id": "2T-5cvROA5cV",
        "outputId": "2f11bd7e-07c7-4262-89ae-d87617033b1f"
      },
      "execution_count": null,
      "outputs": [
        {
          "output_type": "execute_result",
          "data": {
            "text/plain": [
              "(tensor([[0.0634, 0.4970, 0.0606],\n",
              "         [0.1255, 0.0473, 0.8085],\n",
              "         [0.1094, 0.9606, 0.3250]]),\n",
              " 2)"
            ]
          },
          "metadata": {},
          "execution_count": 3
        }
      ]
    },
    {
      "cell_type": "code",
      "source": [
        " # When the dim value = 0, just concatenate\n",
        " # dim = 1, look at the first item in dim 1 and unite all, the seconds, thirds and so on\n",
        " # dim > 1 keeps the same logic, from the x dimension find the 1st item and unite with others from the same dimension\n",
        "\n",
        " inside the stack is equal to the ndim of the tensor,\n",
        "\n",
        "stack_ed = torch.stack([stack, stack, stack], dim=0) # dim=0 is the default, not necessary to declare\n",
        "stack_ed"
      ],
      "metadata": {
        "colab": {
          "base_uri": "https://localhost:8080/"
        },
        "id": "MqS78U39-8dy",
        "outputId": "03f08740-c7b1-4c6c-bb25-06ccfb499a3d"
      },
      "execution_count": null,
      "outputs": [
        {
          "output_type": "execute_result",
          "data": {
            "text/plain": [
              "tensor([[[0.6700, 0.8259, 0.2922],\n",
              "         [0.4596, 0.5267, 0.8191],\n",
              "         [0.6459, 0.9546, 0.6999]],\n",
              "\n",
              "        [[0.6700, 0.8259, 0.2922],\n",
              "         [0.4596, 0.5267, 0.8191],\n",
              "         [0.6459, 0.9546, 0.6999]],\n",
              "\n",
              "        [[0.6700, 0.8259, 0.2922],\n",
              "         [0.4596, 0.5267, 0.8191],\n",
              "         [0.6459, 0.9546, 0.6999]]])"
            ]
          },
          "metadata": {},
          "execution_count": 151
        }
      ]
    },
    {
      "cell_type": "code",
      "source": [
        "stack_ed = torch.stack([stack, stack, stack], dim=1)\n",
        "stack_ed"
      ],
      "metadata": {
        "colab": {
          "base_uri": "https://localhost:8080/"
        },
        "id": "j9xmly56_hKs",
        "outputId": "c7641b5f-6974-4187-e9b2-5fef419957a8"
      },
      "execution_count": null,
      "outputs": [
        {
          "output_type": "execute_result",
          "data": {
            "text/plain": [
              "tensor([[[0.6700, 0.8259, 0.2922],\n",
              "         [0.6700, 0.8259, 0.2922],\n",
              "         [0.6700, 0.8259, 0.2922]],\n",
              "\n",
              "        [[0.4596, 0.5267, 0.8191],\n",
              "         [0.4596, 0.5267, 0.8191],\n",
              "         [0.4596, 0.5267, 0.8191]],\n",
              "\n",
              "        [[0.6459, 0.9546, 0.6999],\n",
              "         [0.6459, 0.9546, 0.6999],\n",
              "         [0.6459, 0.9546, 0.6999]]])"
            ]
          },
          "metadata": {},
          "execution_count": 152
        }
      ]
    },
    {
      "cell_type": "code",
      "source": [],
      "metadata": {
        "id": "q5nvp5BKMFWu"
      },
      "execution_count": null,
      "outputs": []
    },
    {
      "cell_type": "code",
      "source": [
        "stack_ed = torch.stack([stack, stack, stack], dim=2)\n",
        "stack_ed"
      ],
      "metadata": {
        "colab": {
          "base_uri": "https://localhost:8080/"
        },
        "id": "Lf7wKFn-Cw6P",
        "outputId": "b72ba426-5783-498f-8f73-2772b50dbcca"
      },
      "execution_count": null,
      "outputs": [
        {
          "output_type": "execute_result",
          "data": {
            "text/plain": [
              "tensor([[[0.6700, 0.6700, 0.6700],\n",
              "         [0.8259, 0.8259, 0.8259],\n",
              "         [0.2922, 0.2922, 0.2922]],\n",
              "\n",
              "        [[0.4596, 0.4596, 0.4596],\n",
              "         [0.5267, 0.5267, 0.5267],\n",
              "         [0.8191, 0.8191, 0.8191]],\n",
              "\n",
              "        [[0.6459, 0.6459, 0.6459],\n",
              "         [0.9546, 0.9546, 0.9546],\n",
              "         [0.6999, 0.6999, 0.6999]]])"
            ]
          },
          "metadata": {},
          "execution_count": 153
        }
      ]
    },
    {
      "cell_type": "code",
      "source": [
        "# This error occurs because ndim is 2\n",
        "\n",
        "stack_ed = torch.stack([stack, stack, stack], dim=3)\n",
        "stack_ed"
      ],
      "metadata": {
        "colab": {
          "base_uri": "https://localhost:8080/",
          "height": 159
        },
        "id": "EtqURW58Ds6i",
        "outputId": "46ee2efe-28ee-4040-f9bf-2300fd1d4f21"
      },
      "execution_count": null,
      "outputs": [
        {
          "output_type": "error",
          "ename": "IndexError",
          "evalue": "Dimension out of range (expected to be in range of [-3, 2], but got 3)",
          "traceback": [
            "\u001b[0;31m---------------------------------------------------------------------------\u001b[0m",
            "\u001b[0;31mIndexError\u001b[0m                                Traceback (most recent call last)",
            "\u001b[0;32m<ipython-input-149-2e298a189a6c>\u001b[0m in \u001b[0;36m<cell line: 0>\u001b[0;34m()\u001b[0m\n\u001b[0;32m----> 1\u001b[0;31m \u001b[0mstack_ed\u001b[0m \u001b[0;34m=\u001b[0m \u001b[0mtorch\u001b[0m\u001b[0;34m.\u001b[0m\u001b[0mstack\u001b[0m\u001b[0;34m(\u001b[0m\u001b[0;34m[\u001b[0m\u001b[0mstack\u001b[0m\u001b[0;34m,\u001b[0m \u001b[0mstack\u001b[0m\u001b[0;34m,\u001b[0m \u001b[0mstack\u001b[0m\u001b[0;34m]\u001b[0m\u001b[0;34m,\u001b[0m \u001b[0mdim\u001b[0m\u001b[0;34m=\u001b[0m\u001b[0;36m3\u001b[0m\u001b[0;34m)\u001b[0m\u001b[0;34m\u001b[0m\u001b[0;34m\u001b[0m\u001b[0m\n\u001b[0m\u001b[1;32m      2\u001b[0m \u001b[0mstack_ed\u001b[0m\u001b[0;34m\u001b[0m\u001b[0;34m\u001b[0m\u001b[0m\n",
            "\u001b[0;31mIndexError\u001b[0m: Dimension out of range (expected to be in range of [-3, 2], but got 3)"
          ]
        }
      ]
    },
    {
      "cell_type": "code",
      "source": [
        "stack_3 = torch.rand(2, 2, 3)\n",
        "stack_3"
      ],
      "metadata": {
        "colab": {
          "base_uri": "https://localhost:8080/"
        },
        "id": "2PbFz0gDWrLn",
        "outputId": "cb12e0a0-2a35-485c-e812-46546a205a3b"
      },
      "execution_count": null,
      "outputs": [
        {
          "output_type": "execute_result",
          "data": {
            "text/plain": [
              "tensor([[[0.0022, 0.1982, 0.5851],\n",
              "         [0.0717, 0.0301, 0.2743]],\n",
              "\n",
              "        [[0.1360, 0.0014, 0.6417],\n",
              "         [0.9254, 0.5931, 0.7832]]])"
            ]
          },
          "metadata": {},
          "execution_count": 157
        }
      ]
    },
    {
      "cell_type": "code",
      "source": [
        "stack_ed = torch.stack([stack_3, stack_3, stack_3], dim=0)\n",
        "stack_ed"
      ],
      "metadata": {
        "colab": {
          "base_uri": "https://localhost:8080/"
        },
        "id": "o__s4nnxW4MO",
        "outputId": "6e040751-60ee-496c-bca2-942f063ae5fa"
      },
      "execution_count": null,
      "outputs": [
        {
          "output_type": "execute_result",
          "data": {
            "text/plain": [
              "tensor([[[[0.0022, 0.1982, 0.5851],\n",
              "          [0.0717, 0.0301, 0.2743]],\n",
              "\n",
              "         [[0.1360, 0.0014, 0.6417],\n",
              "          [0.9254, 0.5931, 0.7832]]],\n",
              "\n",
              "\n",
              "        [[[0.0022, 0.1982, 0.5851],\n",
              "          [0.0717, 0.0301, 0.2743]],\n",
              "\n",
              "         [[0.1360, 0.0014, 0.6417],\n",
              "          [0.9254, 0.5931, 0.7832]]],\n",
              "\n",
              "\n",
              "        [[[0.0022, 0.1982, 0.5851],\n",
              "          [0.0717, 0.0301, 0.2743]],\n",
              "\n",
              "         [[0.1360, 0.0014, 0.6417],\n",
              "          [0.9254, 0.5931, 0.7832]]]])"
            ]
          },
          "metadata": {},
          "execution_count": 159
        }
      ]
    },
    {
      "cell_type": "code",
      "source": [
        "stack_ed = torch.stack([stack_3, stack_3, stack_3], dim=1)\n",
        "stack_ed"
      ],
      "metadata": {
        "colab": {
          "base_uri": "https://localhost:8080/"
        },
        "id": "ttRVv9KrXFMq",
        "outputId": "33b14f68-8c64-43bf-d871-4ca6337ae120"
      },
      "execution_count": null,
      "outputs": [
        {
          "output_type": "execute_result",
          "data": {
            "text/plain": [
              "tensor([[[[0.0022, 0.1982, 0.5851],\n",
              "          [0.0717, 0.0301, 0.2743]],\n",
              "\n",
              "         [[0.0022, 0.1982, 0.5851],\n",
              "          [0.0717, 0.0301, 0.2743]],\n",
              "\n",
              "         [[0.0022, 0.1982, 0.5851],\n",
              "          [0.0717, 0.0301, 0.2743]]],\n",
              "\n",
              "\n",
              "        [[[0.1360, 0.0014, 0.6417],\n",
              "          [0.9254, 0.5931, 0.7832]],\n",
              "\n",
              "         [[0.1360, 0.0014, 0.6417],\n",
              "          [0.9254, 0.5931, 0.7832]],\n",
              "\n",
              "         [[0.1360, 0.0014, 0.6417],\n",
              "          [0.9254, 0.5931, 0.7832]]]])"
            ]
          },
          "metadata": {},
          "execution_count": 161
        }
      ]
    },
    {
      "cell_type": "code",
      "source": [
        "stack_ed = torch.stack([stack_3, stack_3, stack_3], dim=2)\n",
        "stack_ed"
      ],
      "metadata": {
        "colab": {
          "base_uri": "https://localhost:8080/"
        },
        "id": "pEJ80f_wXViH",
        "outputId": "83e85804-0d23-4426-c836-e21fd5c5468d"
      },
      "execution_count": null,
      "outputs": [
        {
          "output_type": "execute_result",
          "data": {
            "text/plain": [
              "tensor([[[[0.0022, 0.1982, 0.5851],\n",
              "          [0.0022, 0.1982, 0.5851],\n",
              "          [0.0022, 0.1982, 0.5851]],\n",
              "\n",
              "         [[0.0717, 0.0301, 0.2743],\n",
              "          [0.0717, 0.0301, 0.2743],\n",
              "          [0.0717, 0.0301, 0.2743]]],\n",
              "\n",
              "\n",
              "        [[[0.1360, 0.0014, 0.6417],\n",
              "          [0.1360, 0.0014, 0.6417],\n",
              "          [0.1360, 0.0014, 0.6417]],\n",
              "\n",
              "         [[0.9254, 0.5931, 0.7832],\n",
              "          [0.9254, 0.5931, 0.7832],\n",
              "          [0.9254, 0.5931, 0.7832]]]])"
            ]
          },
          "metadata": {},
          "execution_count": 163
        }
      ]
    },
    {
      "cell_type": "markdown",
      "source": [
        "* **Sequeeze and torch.unsqueeze:** Removes/adds extra brackets, if they exist"
      ],
      "metadata": {
        "id": "nU2oV5Q2XqMU"
      }
    },
    {
      "cell_type": "code",
      "source": [
        "stack = torch.tensor([[[1,2,3], [4,5,6]]])"
      ],
      "metadata": {
        "id": "PAEkvqMsORWu"
      },
      "execution_count": null,
      "outputs": []
    },
    {
      "cell_type": "code",
      "source": [
        "stack, stack.shape, stack.squeeze(0), stack.squeeze(0).shape"
      ],
      "metadata": {
        "colab": {
          "base_uri": "https://localhost:8080/"
        },
        "id": "o80gpNJqOYxm",
        "outputId": "103762c0-dd58-47f0-f898-9d8c380f6981"
      },
      "execution_count": null,
      "outputs": [
        {
          "output_type": "execute_result",
          "data": {
            "text/plain": [
              "(tensor([[[1, 2, 3],\n",
              "          [4, 5, 6]]]),\n",
              " torch.Size([1, 2, 3]),\n",
              " tensor([[1, 2, 3],\n",
              "         [4, 5, 6]]),\n",
              " torch.Size([2, 3]))"
            ]
          },
          "metadata": {},
          "execution_count": 39
        }
      ]
    },
    {
      "cell_type": "code",
      "source": [
        "stack.squeeze(1), stack.squeeze(1).shape"
      ],
      "metadata": {
        "colab": {
          "base_uri": "https://localhost:8080/"
        },
        "id": "XesU3bvXOyxR",
        "outputId": "8d0371e2-f4a2-4c76-b628-5161e92a2eaf"
      },
      "execution_count": null,
      "outputs": [
        {
          "output_type": "execute_result",
          "data": {
            "text/plain": [
              "(tensor([[[1, 2, 3],\n",
              "          [4, 5, 6]]]),\n",
              " torch.Size([1, 2, 3]))"
            ]
          },
          "metadata": {},
          "execution_count": 41
        }
      ]
    },
    {
      "cell_type": "code",
      "source": [
        "stack = torch.tensor([[[[1,2,3]], [[4,5,6]]]])"
      ],
      "metadata": {
        "id": "5v978bQ4PmLJ"
      },
      "execution_count": null,
      "outputs": []
    },
    {
      "cell_type": "code",
      "source": [
        "stack, stack.shape"
      ],
      "metadata": {
        "colab": {
          "base_uri": "https://localhost:8080/"
        },
        "id": "VnMqVBntRApx",
        "outputId": "9353b4e0-8cbb-4c37-f2b9-eb15baa085e7"
      },
      "execution_count": null,
      "outputs": [
        {
          "output_type": "execute_result",
          "data": {
            "text/plain": [
              "(tensor([[[[1, 2, 3]],\n",
              " \n",
              "          [[4, 5, 6]]]]),\n",
              " torch.Size([1, 2, 1, 3]))"
            ]
          },
          "metadata": {},
          "execution_count": 48
        }
      ]
    },
    {
      "cell_type": "code",
      "source": [
        "stack.squeeze(0)"
      ],
      "metadata": {
        "colab": {
          "base_uri": "https://localhost:8080/"
        },
        "id": "yXcUhjVKRGtI",
        "outputId": "7d7d9ccb-78ad-4050-cb9e-a95231c629b3"
      },
      "execution_count": null,
      "outputs": [
        {
          "output_type": "execute_result",
          "data": {
            "text/plain": [
              "tensor([[[1, 2, 3]],\n",
              "\n",
              "        [[4, 5, 6]]])"
            ]
          },
          "metadata": {},
          "execution_count": 49
        }
      ]
    },
    {
      "cell_type": "code",
      "source": [
        "stack.squeeze(2)"
      ],
      "metadata": {
        "colab": {
          "base_uri": "https://localhost:8080/"
        },
        "id": "2jItFMxcRm29",
        "outputId": "27f19339-35c1-440d-b44e-ba89d7e912ea"
      },
      "execution_count": null,
      "outputs": [
        {
          "output_type": "execute_result",
          "data": {
            "text/plain": [
              "tensor([[[1, 2, 3],\n",
              "         [4, 5, 6]]])"
            ]
          },
          "metadata": {},
          "execution_count": 50
        }
      ]
    },
    {
      "cell_type": "code",
      "source": [
        "stack.squeeze(0, 2)"
      ],
      "metadata": {
        "colab": {
          "base_uri": "https://localhost:8080/"
        },
        "id": "ddVmioybRocJ",
        "outputId": "59ca5696-62ff-41a0-8d8b-ab312eb62ad9"
      },
      "execution_count": null,
      "outputs": [
        {
          "output_type": "execute_result",
          "data": {
            "text/plain": [
              "tensor([[1, 2, 3],\n",
              "        [4, 5, 6]])"
            ]
          },
          "metadata": {},
          "execution_count": 51
        }
      ]
    },
    {
      "cell_type": "code",
      "source": [
        "stack, stack.unsqueeze(3)"
      ],
      "metadata": {
        "colab": {
          "base_uri": "https://localhost:8080/"
        },
        "id": "yOGHqqohRwlL",
        "outputId": "84a5f91b-29f5-4ec2-ad78-dc5a98dfe7b3"
      },
      "execution_count": null,
      "outputs": [
        {
          "output_type": "execute_result",
          "data": {
            "text/plain": [
              "(tensor([[[[1, 2, 3]],\n",
              " \n",
              "          [[4, 5, 6]]]]),\n",
              " tensor([[[[[1, 2, 3]]],\n",
              " \n",
              " \n",
              "          [[[4, 5, 6]]]]]))"
            ]
          },
          "metadata": {},
          "execution_count": 61
        }
      ]
    },
    {
      "cell_type": "code",
      "source": [
        "vector = torch.arange(0, 11)\n",
        "vector"
      ],
      "metadata": {
        "colab": {
          "base_uri": "https://localhost:8080/"
        },
        "id": "luWT4vxTR14w",
        "outputId": "9b09bbac-8ab3-4342-b8ef-dd605bab8fa9"
      },
      "execution_count": null,
      "outputs": [
        {
          "output_type": "execute_result",
          "data": {
            "text/plain": [
              "tensor([ 0,  1,  2,  3,  4,  5,  6,  7,  8,  9, 10])"
            ]
          },
          "metadata": {},
          "execution_count": 54
        }
      ]
    },
    {
      "cell_type": "code",
      "source": [
        "vector.unsqueeze(0)"
      ],
      "metadata": {
        "colab": {
          "base_uri": "https://localhost:8080/"
        },
        "id": "XxHaNIgISixX",
        "outputId": "de09cbf0-af5e-49a4-a279-a2ff42ccf996"
      },
      "execution_count": null,
      "outputs": [
        {
          "output_type": "execute_result",
          "data": {
            "text/plain": [
              "tensor([[ 0,  1,  2,  3,  4,  5,  6,  7,  8,  9, 10]])"
            ]
          },
          "metadata": {},
          "execution_count": 55
        }
      ]
    },
    {
      "cell_type": "code",
      "source": [
        "# Quando a dimenção a add um [] é igual ndim + 1 os elementos serão circundados\n",
        "vector.unsqueeze(1)"
      ],
      "metadata": {
        "colab": {
          "base_uri": "https://localhost:8080/"
        },
        "id": "PqHlBcbWSoka",
        "outputId": "8fc1b3c3-a088-4c58-8417-cf539fe1f24b"
      },
      "execution_count": null,
      "outputs": [
        {
          "output_type": "execute_result",
          "data": {
            "text/plain": [
              "tensor([[ 0],\n",
              "        [ 1],\n",
              "        [ 2],\n",
              "        [ 3],\n",
              "        [ 4],\n",
              "        [ 5],\n",
              "        [ 6],\n",
              "        [ 7],\n",
              "        [ 8],\n",
              "        [ 9],\n",
              "        [10]])"
            ]
          },
          "metadata": {},
          "execution_count": 58
        }
      ]
    },
    {
      "cell_type": "code",
      "source": [
        "stack"
      ],
      "metadata": {
        "colab": {
          "base_uri": "https://localhost:8080/"
        },
        "id": "BkIqJ0xzSso6",
        "outputId": "fb4e6a0a-36ce-4978-a63b-eca48bb22dcb"
      },
      "execution_count": null,
      "outputs": [
        {
          "output_type": "execute_result",
          "data": {
            "text/plain": [
              "tensor([[[[1, 2, 3]],\n",
              "\n",
              "         [[4, 5, 6]]]])"
            ]
          },
          "metadata": {},
          "execution_count": 62
        }
      ]
    },
    {
      "cell_type": "code",
      "source": [
        "stack.shape"
      ],
      "metadata": {
        "colab": {
          "base_uri": "https://localhost:8080/"
        },
        "id": "XHWb9LNaTl4o",
        "outputId": "93b22ef6-253c-4cfb-9cde-39b3c94b5803"
      },
      "execution_count": null,
      "outputs": [
        {
          "output_type": "execute_result",
          "data": {
            "text/plain": [
              "torch.Size([1, 2, 1, 3])"
            ]
          },
          "metadata": {},
          "execution_count": 77
        }
      ]
    },
    {
      "cell_type": "code",
      "source": [
        "stack = stack.squeeze(0, 2)"
      ],
      "metadata": {
        "id": "4jn4XqiIToN3"
      },
      "execution_count": null,
      "outputs": []
    },
    {
      "cell_type": "code",
      "source": [
        "stack.shape"
      ],
      "metadata": {
        "colab": {
          "base_uri": "https://localhost:8080/"
        },
        "id": "qRQsSCoPU-we",
        "outputId": "b684c230-b2dc-4668-c996-7af10e2ce78c"
      },
      "execution_count": null,
      "outputs": [
        {
          "output_type": "execute_result",
          "data": {
            "text/plain": [
              "torch.Size([2, 3])"
            ]
          },
          "metadata": {},
          "execution_count": 79
        }
      ]
    },
    {
      "cell_type": "code",
      "source": [
        "stack"
      ],
      "metadata": {
        "colab": {
          "base_uri": "https://localhost:8080/"
        },
        "id": "Uvh_nylpVAKE",
        "outputId": "472289e6-ce56-4a97-b7d9-b435c1c219f2"
      },
      "execution_count": null,
      "outputs": [
        {
          "output_type": "execute_result",
          "data": {
            "text/plain": [
              "tensor([[1, 2, 3],\n",
              "        [4, 5, 6]])"
            ]
          },
          "metadata": {},
          "execution_count": 80
        }
      ]
    },
    {
      "cell_type": "markdown",
      "source": [
        "* **Permute:** Organizes the dimensions in a specified order, reshaping as necessary\n",
        "\n",
        "**PS:** Just like view, shares the same memory"
      ],
      "metadata": {
        "id": "dnpehECLVdhL"
      }
    },
    {
      "cell_type": "code",
      "source": [
        "stack.permute(1, 0)"
      ],
      "metadata": {
        "colab": {
          "base_uri": "https://localhost:8080/"
        },
        "id": "8J5RuEavVH5Y",
        "outputId": "28456f15-18e7-419e-d13f-8d5bee601e64"
      },
      "execution_count": null,
      "outputs": [
        {
          "output_type": "execute_result",
          "data": {
            "text/plain": [
              "tensor([[1, 4],\n",
              "        [2, 5],\n",
              "        [3, 6]])"
            ]
          },
          "metadata": {},
          "execution_count": 83
        }
      ]
    },
    {
      "cell_type": "code",
      "source": [
        "vector"
      ],
      "metadata": {
        "colab": {
          "base_uri": "https://localhost:8080/"
        },
        "id": "e2cjbXxsVPOD",
        "outputId": "e9b7b273-80b3-4e6f-da1c-c97150fb782e"
      },
      "execution_count": null,
      "outputs": [
        {
          "output_type": "execute_result",
          "data": {
            "text/plain": [
              "tensor([ 0,  1,  2,  3,  4,  5,  6,  7,  8,  9, 10])"
            ]
          },
          "metadata": {},
          "execution_count": 84
        }
      ]
    },
    {
      "cell_type": "code",
      "source": [
        "stack[0, 2]"
      ],
      "metadata": {
        "colab": {
          "base_uri": "https://localhost:8080/"
        },
        "id": "imio805YWd-Y",
        "outputId": "cbf5e2e3-bd93-4173-845e-b16c1d56f9e3"
      },
      "execution_count": null,
      "outputs": [
        {
          "output_type": "execute_result",
          "data": {
            "text/plain": [
              "tensor(3)"
            ]
          },
          "metadata": {},
          "execution_count": 93
        }
      ]
    },
    {
      "cell_type": "code",
      "source": [
        "stack"
      ],
      "metadata": {
        "colab": {
          "base_uri": "https://localhost:8080/"
        },
        "id": "jfVZl6wcrXAr",
        "outputId": "0dc09d18-8ef6-47d3-d632-d312b6b71e01"
      },
      "execution_count": null,
      "outputs": [
        {
          "output_type": "execute_result",
          "data": {
            "text/plain": [
              "tensor([[1, 2, 3],\n",
              "        [4, 5, 6]])"
            ]
          },
          "metadata": {},
          "execution_count": 90
        }
      ]
    },
    {
      "cell_type": "markdown",
      "source": [
        "## Indexing"
      ],
      "metadata": {
        "id": "vCgpCXb8rhMG"
      }
    },
    {
      "cell_type": "code",
      "source": [
        "ex = torch.rand(2, 3, 3)\n",
        "ex"
      ],
      "metadata": {
        "colab": {
          "base_uri": "https://localhost:8080/"
        },
        "id": "SQLzCaW4sW5H",
        "outputId": "59586835-5dba-4acc-a41d-224460031574"
      },
      "execution_count": null,
      "outputs": [
        {
          "output_type": "execute_result",
          "data": {
            "text/plain": [
              "tensor([[[0.4404, 0.9886, 0.3519],\n",
              "         [0.4858, 0.5944, 0.6667],\n",
              "         [0.4999, 0.6791, 0.8760]],\n",
              "\n",
              "        [[0.4601, 0.0480, 0.3962],\n",
              "         [0.1305, 0.3701, 0.5218],\n",
              "         [0.6647, 0.9474, 0.9817]]])"
            ]
          },
          "metadata": {},
          "execution_count": 94
        }
      ]
    },
    {
      "cell_type": "code",
      "source": [
        "ex[0]"
      ],
      "metadata": {
        "colab": {
          "base_uri": "https://localhost:8080/"
        },
        "id": "ZLOHa74hskn5",
        "outputId": "d1559834-1731-44a8-818c-d1b679dd5f2f"
      },
      "execution_count": null,
      "outputs": [
        {
          "output_type": "execute_result",
          "data": {
            "text/plain": [
              "tensor([[0.4404, 0.9886, 0.3519],\n",
              "        [0.4858, 0.5944, 0.6667],\n",
              "        [0.4999, 0.6791, 0.8760]])"
            ]
          },
          "metadata": {},
          "execution_count": 95
        }
      ]
    },
    {
      "cell_type": "code",
      "source": [
        "# Like JS, but with other option\n",
        "ex[0][0], ex[0, 0]"
      ],
      "metadata": {
        "colab": {
          "base_uri": "https://localhost:8080/"
        },
        "id": "n12g1ouYswGh",
        "outputId": "ecda425c-1620-48ae-b07a-954ef60293da"
      },
      "execution_count": null,
      "outputs": [
        {
          "output_type": "execute_result",
          "data": {
            "text/plain": [
              "(tensor([0.4404, 0.9886, 0.3519]), tensor([0.4404, 0.9886, 0.3519]))"
            ]
          },
          "metadata": {},
          "execution_count": 99
        }
      ]
    },
    {
      "cell_type": "code",
      "source": [
        "ex[0][0][0]"
      ],
      "metadata": {
        "colab": {
          "base_uri": "https://localhost:8080/"
        },
        "id": "3ot4LT7GtHYn",
        "outputId": "3da4a0d0-3e96-4e4e-c2dd-720e7c3543ff"
      },
      "execution_count": null,
      "outputs": [
        {
          "output_type": "execute_result",
          "data": {
            "text/plain": [
              "tensor(0.4404)"
            ]
          },
          "metadata": {},
          "execution_count": 100
        }
      ]
    },
    {
      "cell_type": "code",
      "source": [
        "# : means to get from all arrays of that dim\n",
        "## in this case, get from all arrays in dim0 the second array's second item\n",
        "ex[:, 1, 1]"
      ],
      "metadata": {
        "colab": {
          "base_uri": "https://localhost:8080/"
        },
        "id": "4cDXDBFUteSL",
        "outputId": "cc11a0ee-813f-44d1-d449-00d09ae9596c"
      },
      "execution_count": null,
      "outputs": [
        {
          "output_type": "execute_result",
          "data": {
            "text/plain": [
              "tensor([0.5944, 0.3701])"
            ]
          },
          "metadata": {},
          "execution_count": 101
        }
      ]
    },
    {
      "cell_type": "code",
      "source": [
        "ex[:, 2, :]"
      ],
      "metadata": {
        "colab": {
          "base_uri": "https://localhost:8080/"
        },
        "id": "-y-rzOiIuIce",
        "outputId": "71e64e57-3f23-4de0-8a08-a771288f1328"
      },
      "execution_count": null,
      "outputs": [
        {
          "output_type": "execute_result",
          "data": {
            "text/plain": [
              "tensor([[0.4999, 0.6791, 0.8760],\n",
              "        [0.6647, 0.9474, 0.9817]])"
            ]
          },
          "metadata": {},
          "execution_count": 103
        }
      ]
    },
    {
      "cell_type": "markdown",
      "source": [
        "## PyTorch & NumPy\n",
        "\n",
        "PyTorch requires NumPy, which is a library with multiple calculation functions"
      ],
      "metadata": {
        "id": "OjkLZlCXuP9w"
      }
    },
    {
      "cell_type": "markdown",
      "source": [
        "* Take data from NumPy and convert to PyTorch tensor"
      ],
      "metadata": {
        "id": "qcHxBpRqwQ0U"
      }
    },
    {
      "cell_type": "code",
      "source": [
        "array = np.arange(1, 11)\n",
        "array, array.dtype"
      ],
      "metadata": {
        "colab": {
          "base_uri": "https://localhost:8080/"
        },
        "id": "B7WcUpTEwgk4",
        "outputId": "b127c9ff-6282-4a0b-c4ca-d79d0539be24"
      },
      "execution_count": null,
      "outputs": [
        {
          "output_type": "execute_result",
          "data": {
            "text/plain": [
              "(array([ 1,  2,  3,  4,  5,  6,  7,  8,  9, 10]), dtype('int64'))"
            ]
          },
          "metadata": {},
          "execution_count": 108
        }
      ]
    },
    {
      "cell_type": "code",
      "source": [
        "tensor = torch.from_numpy(array)\n",
        "tensor, tensor.dtype"
      ],
      "metadata": {
        "colab": {
          "base_uri": "https://localhost:8080/"
        },
        "id": "dT78riU2wvmS",
        "outputId": "50e709c9-fdec-483d-a123-7bd0a3b4da60"
      },
      "execution_count": null,
      "outputs": [
        {
          "output_type": "execute_result",
          "data": {
            "text/plain": [
              "(tensor([ 1,  2,  3,  4,  5,  6,  7,  8,  9, 10]), torch.int64)"
            ]
          },
          "metadata": {},
          "execution_count": 109
        }
      ]
    },
    {
      "cell_type": "markdown",
      "source": [
        "* Take into account the fact that the default value in NumPy is `dtype = float64` or `int64`, and in torch `dtype = float32`"
      ],
      "metadata": {
        "id": "lsTIOK4dw8-S"
      }
    },
    {
      "cell_type": "markdown",
      "source": [
        "* To convert the `dtype` to float32 do as follows:"
      ],
      "metadata": {
        "id": "XlKm5wLEzBmz"
      }
    },
    {
      "cell_type": "code",
      "source": [
        "tensor = torch.from_numpy(array).type(torch.float32)\n",
        "tensor, tensor.dtype"
      ],
      "metadata": {
        "colab": {
          "base_uri": "https://localhost:8080/"
        },
        "id": "-jMyoZBbyQhw",
        "outputId": "9c378ae3-ae8e-4583-9e40-ca65328e764d"
      },
      "execution_count": null,
      "outputs": [
        {
          "output_type": "execute_result",
          "data": {
            "text/plain": [
              "(tensor([ 1.,  2.,  3.,  4.,  5.,  6.,  7.,  8.,  9., 10.]), torch.float32)"
            ]
          },
          "metadata": {},
          "execution_count": 119
        }
      ]
    },
    {
      "cell_type": "markdown",
      "source": [
        "* Take data from PyTorch to NumPy:"
      ],
      "metadata": {
        "id": "jvrD1kjvyrNX"
      }
    },
    {
      "cell_type": "code",
      "source": [
        "tensor = torch.zeros(10)\n",
        "tensor, tensor.dtype"
      ],
      "metadata": {
        "colab": {
          "base_uri": "https://localhost:8080/"
        },
        "id": "afhBl2BazpjQ",
        "outputId": "a79836a6-a25a-459b-f65b-ee84e5e14fb0"
      },
      "execution_count": null,
      "outputs": [
        {
          "output_type": "execute_result",
          "data": {
            "text/plain": [
              "(tensor([0., 0., 0., 0., 0., 0., 0., 0., 0., 0.]), torch.float32)"
            ]
          },
          "metadata": {},
          "execution_count": 122
        }
      ]
    },
    {
      "cell_type": "code",
      "source": [
        "numpy = tensor.numpy()\n",
        "numpy, numpy.dtype"
      ],
      "metadata": {
        "colab": {
          "base_uri": "https://localhost:8080/"
        },
        "id": "wx4X_v7lzuoe",
        "outputId": "480e31d7-4db5-4af5-f0d3-64c606b07da0"
      },
      "execution_count": null,
      "outputs": [
        {
          "output_type": "execute_result",
          "data": {
            "text/plain": [
              "(array([0., 0., 0., 0., 0., 0., 0., 0., 0., 0.], dtype=float32),\n",
              " dtype('float32'))"
            ]
          },
          "metadata": {},
          "execution_count": 125
        }
      ]
    },
    {
      "cell_type": "markdown",
      "source": [
        " ## Reproducibility (Making random tensors less random)\n",
        "\n",
        " Neural networks learn taking random tensors, making operations to find patterns and then update the random numbers multiple times until the calculations output a good representation of the expected data output\n",
        "\n",
        " To reduce randomness we use the **random seed**"
      ],
      "metadata": {
        "id": "Joz5sEM6z-RS"
      }
    },
    {
      "cell_type": "code",
      "source": [
        "tensor_a = torch.rand(3, 4)\n",
        "tensor_b = torch.rand(3, 4)\n",
        "tensor_a, tensor_b"
      ],
      "metadata": {
        "colab": {
          "base_uri": "https://localhost:8080/"
        },
        "id": "a1_DwLON0k2Y",
        "outputId": "8e10e8e5-435a-482e-889b-e2061609e832"
      },
      "execution_count": null,
      "outputs": [
        {
          "output_type": "execute_result",
          "data": {
            "text/plain": [
              "(tensor([[0.3158, 0.1765, 0.2927, 0.9295],\n",
              "         [0.9146, 0.2854, 0.0241, 0.2317],\n",
              "         [0.1923, 0.2486, 0.6258, 0.8003]]),\n",
              " tensor([[0.6411, 0.2076, 0.4698, 0.9483],\n",
              "         [0.5360, 0.9798, 0.1262, 0.7378],\n",
              "         [0.9106, 0.1149, 0.0714, 0.9252]]))"
            ]
          },
          "metadata": {},
          "execution_count": 128
        }
      ]
    },
    {
      "cell_type": "code",
      "source": [
        "tensor_a == tensor_b"
      ],
      "metadata": {
        "colab": {
          "base_uri": "https://localhost:8080/"
        },
        "id": "7m8WhCxc2NXD",
        "outputId": "48d39607-57dd-418e-db87-91101920f974"
      },
      "execution_count": null,
      "outputs": [
        {
          "output_type": "execute_result",
          "data": {
            "text/plain": [
              "tensor([[False, False, False, False],\n",
              "        [False, False, False, False],\n",
              "        [False, False, False, False]])"
            ]
          },
          "metadata": {},
          "execution_count": 129
        }
      ]
    },
    {
      "cell_type": "markdown",
      "source": [
        "* Random but reproducible tensors"
      ],
      "metadata": {
        "id": "dFh8R2ng2dnZ"
      }
    },
    {
      "cell_type": "code",
      "source": [
        "RANDOM_SEED = 3"
      ],
      "metadata": {
        "id": "0NfJNmDG2xJo"
      },
      "execution_count": null,
      "outputs": []
    },
    {
      "cell_type": "markdown",
      "source": [
        "* In notebook it is necessary to set the seed before the tensor creation"
      ],
      "metadata": {
        "id": "28QqCwEy3up6"
      }
    },
    {
      "cell_type": "code",
      "source": [
        "torch.manual_seed(RANDOM_SEED)\n",
        "tensor_c = torch.rand(3, 4)\n",
        "torch.manual_seed(RANDOM_SEED)\n",
        "tensor_d = torch.rand(3, 4)\n",
        "tensor_c, tensor_d, tensor_c == tensor_d"
      ],
      "metadata": {
        "colab": {
          "base_uri": "https://localhost:8080/"
        },
        "id": "BHOFK7tp24hN",
        "outputId": "079c0e48-53c8-4655-8142-69d4067b49d5"
      },
      "execution_count": null,
      "outputs": [
        {
          "output_type": "execute_result",
          "data": {
            "text/plain": [
              "(tensor([[0.0043, 0.1056, 0.2858, 0.0270],\n",
              "         [0.4716, 0.0601, 0.7719, 0.7437],\n",
              "         [0.5944, 0.8879, 0.4510, 0.7995]]),\n",
              " tensor([[0.0043, 0.1056, 0.2858, 0.0270],\n",
              "         [0.4716, 0.0601, 0.7719, 0.7437],\n",
              "         [0.5944, 0.8879, 0.4510, 0.7995]]),\n",
              " tensor([[True, True, True, True],\n",
              "         [True, True, True, True],\n",
              "         [True, True, True, True]]))"
            ]
          },
          "metadata": {},
          "execution_count": 133
        }
      ]
    },
    {
      "cell_type": "code",
      "source": [],
      "metadata": {
        "id": "mf4j0z3j3QOJ"
      },
      "execution_count": null,
      "outputs": []
    },
    {
      "cell_type": "markdown",
      "source": [
        "## Running tensors and PyToch on GPU's (for faster computation)"
      ],
      "metadata": {
        "id": "p8eiZhSz5Dl0"
      }
    },
    {
      "cell_type": "code",
      "source": [
        "!nvidia-smi"
      ],
      "metadata": {
        "colab": {
          "base_uri": "https://localhost:8080/"
        },
        "id": "BRlQqMlI5Tn6",
        "outputId": "c0d01eb9-9b54-4919-b164-158eee0629ff"
      },
      "execution_count": null,
      "outputs": [
        {
          "output_type": "stream",
          "name": "stdout",
          "text": [
            "Mon May  5 19:22:40 2025       \n",
            "+-----------------------------------------------------------------------------------------+\n",
            "| NVIDIA-SMI 550.54.15              Driver Version: 550.54.15      CUDA Version: 12.4     |\n",
            "|-----------------------------------------+------------------------+----------------------+\n",
            "| GPU  Name                 Persistence-M | Bus-Id          Disp.A | Volatile Uncorr. ECC |\n",
            "| Fan  Temp   Perf          Pwr:Usage/Cap |           Memory-Usage | GPU-Util  Compute M. |\n",
            "|                                         |                        |               MIG M. |\n",
            "|=========================================+========================+======================|\n",
            "|   0  Tesla T4                       Off |   00000000:00:04.0 Off |                    0 |\n",
            "| N/A   34C    P8              9W /   70W |       0MiB /  15360MiB |      0%      Default |\n",
            "|                                         |                        |                  N/A |\n",
            "+-----------------------------------------+------------------------+----------------------+\n",
            "                                                                                         \n",
            "+-----------------------------------------------------------------------------------------+\n",
            "| Processes:                                                                              |\n",
            "|  GPU   GI   CI        PID   Type   Process name                              GPU Memory |\n",
            "|        ID   ID                                                               Usage      |\n",
            "|=========================================================================================|\n",
            "|  No running processes found                                                             |\n",
            "+-----------------------------------------------------------------------------------------+\n"
          ]
        }
      ]
    },
    {
      "cell_type": "markdown",
      "source": [
        "* Check access to GPU with PyTorch"
      ],
      "metadata": {
        "id": "9MOJbf8U6Ei8"
      }
    },
    {
      "cell_type": "code",
      "source": [
        "torch.cuda.is_available()"
      ],
      "metadata": {
        "colab": {
          "base_uri": "https://localhost:8080/"
        },
        "id": "BX_YBbM17NWc",
        "outputId": "812d49cc-821c-40e8-b768-966f6683cd36"
      },
      "execution_count": null,
      "outputs": [
        {
          "output_type": "execute_result",
          "data": {
            "text/plain": [
              "True"
            ]
          },
          "metadata": {},
          "execution_count": 8
        }
      ]
    },
    {
      "cell_type": "markdown",
      "source": [
        "* Setup device agnostic code (use gpu if available)\n",
        "\n"
      ],
      "metadata": {
        "id": "IinOnt3r7Wj_"
      }
    },
    {
      "cell_type": "code",
      "source": [
        "device = \"cuda\" if torch.cuda.is_available() else \"cpu\"\n",
        "device"
      ],
      "metadata": {
        "colab": {
          "base_uri": "https://localhost:8080/",
          "height": 35
        },
        "id": "H209bTav8EFB",
        "outputId": "48261acd-3660-43c6-dc12-3ff7aa933da5"
      },
      "execution_count": null,
      "outputs": [
        {
          "output_type": "execute_result",
          "data": {
            "text/plain": [
              "'cuda'"
            ],
            "application/vnd.google.colaboratory.intrinsic+json": {
              "type": "string"
            }
          },
          "metadata": {},
          "execution_count": 9
        }
      ]
    },
    {
      "cell_type": "markdown",
      "source": [
        "### Putting tensors (and models) on the GPU"
      ],
      "metadata": {
        "id": "QJjUKPyz8sy6"
      }
    },
    {
      "cell_type": "code",
      "source": [
        "tensor_cpu = torch.tensor([1, 2, 3])\n",
        "tensor_cpu, tensor.device"
      ],
      "metadata": {
        "colab": {
          "base_uri": "https://localhost:8080/"
        },
        "id": "VnlaT2Ei84FP",
        "outputId": "525bf9dc-a920-44c9-a1d9-412972de9e2e"
      },
      "execution_count": null,
      "outputs": [
        {
          "output_type": "execute_result",
          "data": {
            "text/plain": [
              "(tensor([1, 2, 3]), device(type='cpu'))"
            ]
          },
          "metadata": {},
          "execution_count": 14
        }
      ]
    },
    {
      "cell_type": "code",
      "source": [
        "device"
      ],
      "metadata": {
        "colab": {
          "base_uri": "https://localhost:8080/",
          "height": 35
        },
        "id": "NY_mZTat9UdH",
        "outputId": "c8fe9810-3a27-4f5c-f8c6-a4c2eb02462e"
      },
      "execution_count": null,
      "outputs": [
        {
          "output_type": "execute_result",
          "data": {
            "text/plain": [
              "'cuda'"
            ],
            "application/vnd.google.colaboratory.intrinsic+json": {
              "type": "string"
            }
          },
          "metadata": {},
          "execution_count": 15
        }
      ]
    },
    {
      "cell_type": "code",
      "source": [
        "tensor_gpu = tensor_cpu.to(device)\n",
        "tensor_gpu"
      ],
      "metadata": {
        "colab": {
          "base_uri": "https://localhost:8080/"
        },
        "id": "r6bf0ZZT9EEG",
        "outputId": "b4cd986b-1b73-4929-a25e-8c89eec4c15e"
      },
      "execution_count": null,
      "outputs": [
        {
          "output_type": "execute_result",
          "data": {
            "text/plain": [
              "tensor([1, 2, 3], device='cuda:0')"
            ]
          },
          "metadata": {},
          "execution_count": 18
        }
      ]
    },
    {
      "cell_type": "markdown",
      "source": [
        "### Putting tensor (and models) on the CPU (Cause of NumPy)"
      ],
      "metadata": {
        "id": "UVd_NMod9Fpc"
      }
    },
    {
      "cell_type": "code",
      "source": [
        "tensor_cpu = tensor_gpu.to(\"cpu\")\n",
        "tensor_cpu, tensor_cpu.device"
      ],
      "metadata": {
        "colab": {
          "base_uri": "https://localhost:8080/"
        },
        "id": "FOrXGexh9ujp",
        "outputId": "577f22f1-ba4b-4ef2-ec53-24bb8ac8dada"
      },
      "execution_count": null,
      "outputs": [
        {
          "output_type": "execute_result",
          "data": {
            "text/plain": [
              "(tensor([1, 2, 3]), device(type='cpu'))"
            ]
          },
          "metadata": {},
          "execution_count": 22
        }
      ]
    },
    {
      "cell_type": "code",
      "source": [
        "numpy = tensor_gpu.numpy()"
      ],
      "metadata": {
        "colab": {
          "base_uri": "https://localhost:8080/",
          "height": 141
        },
        "id": "StX9FJr0-Zan",
        "outputId": "3b376bc9-3dd3-469c-ca67-17f3cd0bd2ef"
      },
      "execution_count": null,
      "outputs": [
        {
          "output_type": "error",
          "ename": "TypeError",
          "evalue": "can't convert cuda:0 device type tensor to numpy. Use Tensor.cpu() to copy the tensor to host memory first.",
          "traceback": [
            "\u001b[0;31m---------------------------------------------------------------------------\u001b[0m",
            "\u001b[0;31mTypeError\u001b[0m                                 Traceback (most recent call last)",
            "\u001b[0;32m<ipython-input-27-cdaaca532baa>\u001b[0m in \u001b[0;36m<cell line: 0>\u001b[0;34m()\u001b[0m\n\u001b[0;32m----> 1\u001b[0;31m \u001b[0mnumpy\u001b[0m \u001b[0;34m=\u001b[0m \u001b[0mtensor_gpu\u001b[0m\u001b[0;34m.\u001b[0m\u001b[0mnumpy\u001b[0m\u001b[0;34m(\u001b[0m\u001b[0;34m)\u001b[0m\u001b[0;34m\u001b[0m\u001b[0;34m\u001b[0m\u001b[0m\n\u001b[0m",
            "\u001b[0;31mTypeError\u001b[0m: can't convert cuda:0 device type tensor to numpy. Use Tensor.cpu() to copy the tensor to host memory first."
          ]
        }
      ]
    },
    {
      "cell_type": "code",
      "source": [
        "numpy = tensor_cpu.numpy()"
      ],
      "metadata": {
        "id": "LUiYrKOS-9Hw"
      },
      "execution_count": null,
      "outputs": []
    },
    {
      "cell_type": "code",
      "source": [],
      "metadata": {
        "id": "0uk7PxrOBZsV"
      },
      "execution_count": null,
      "outputs": []
    },
    {
      "cell_type": "markdown",
      "source": [
        "# Chapter 1 - Workflow"
      ],
      "metadata": {
        "id": "qmDCR2hf-_bD"
      }
    },
    {
      "cell_type": "code",
      "source": [],
      "metadata": {
        "id": "U746Z8baBb1u"
      },
      "execution_count": null,
      "outputs": []
    },
    {
      "cell_type": "code",
      "source": [],
      "metadata": {
        "id": "OmIRAXO9BTSE"
      },
      "execution_count": null,
      "outputs": []
    }
  ]
}